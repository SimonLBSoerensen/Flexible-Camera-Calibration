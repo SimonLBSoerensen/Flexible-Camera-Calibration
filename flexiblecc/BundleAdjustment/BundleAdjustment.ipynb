{
 "nbformat": 4,
 "nbformat_minor": 2,
 "metadata": {
  "language_info": {
   "name": "python",
   "codemirror_mode": {
    "name": "ipython",
    "version": 3
   },
   "version": "3.7.5-final"
  },
  "orig_nbformat": 2,
  "file_extension": ".py",
  "mimetype": "text/x-python",
  "name": "python",
  "npconvert_exporter": "python",
  "pygments_lexer": "ipython3",
  "version": 3,
  "kernelspec": {
   "name": "python37564bit49531403388b4fe48c8dde09d0f8c6aa",
   "display_name": "Python 3.7.5 64-bit"
  }
 },
 "cells": [
  {
   "cell_type": "code",
   "execution_count": 6,
   "metadata": {},
   "outputs": [],
   "source": [
    "import os\n",
    "try:\n",
    "    import flexiblecc as fcc\n",
    "except ImportError as e:\n",
    "    !pip install flexiblecc\n",
    "    import flexiblecc as fcc\n",
    "\n",
    "if not os.path.exists(\"../../CalImgs/\"):\n",
    "    if not os.path.exists(\"Flexible-Camera-Calibration/CalImgs\"):\n",
    "        !git clone https://github.com/SimonLBSoerensen/Flexible-Camera-Calibration \n",
    "    datasetpath = \"Flexible-Camera-Calibration/CalImgs/cam_0*\"\n",
    "else:\n",
    "    datasetpath = \"../../CalImgs/cam_0*\""
   ]
  },
  {
   "cell_type": "code",
   "execution_count": 8,
   "metadata": {},
   "outputs": [],
   "source": [
    "import glob\n",
    "import numpy as np\n",
    "import cv2\n",
    "import matplotlib.pyplot as plt\n",
    "from tqdm import tqdm"
   ]
  },
  {
   "cell_type": "code",
   "execution_count": 9,
   "metadata": {},
   "outputs": [
    {
     "output_type": "stream",
     "name": "stderr",
     "text": "100%|██████████| 94/94 [00:03<00:00, 25.21it/s]\n100%|██████████| 94/94 [00:00<00:00, 2191.88it/s]\n"
    }
   ],
   "source": [
    "color_cal_imgs_files = glob.glob(datasetpath)\n",
    "color_cal_imgs = np.array([cv2.imread(f) for f in tqdm(color_cal_imgs_files)])\n",
    "gray_cal_imgs = [cv2.cvtColor(img, cv2.COLOR_BGR2GRAY) for img in tqdm(color_cal_imgs)]"
   ]
  },
  {
   "cell_type": "code",
   "execution_count": 10,
   "metadata": {},
   "outputs": [],
   "source": [
    "pattern_size = (12, 12)"
   ]
  },
  {
   "cell_type": "code",
   "execution_count": 11,
   "metadata": {},
   "outputs": [
    {
     "output_type": "stream",
     "name": "stderr",
     "text": "9%|▊         | 8/94 [00:00<00:01, 76.03it/s]Finding chessboard pattern in the images\n100%|██████████| 94/94 [00:11<00:00,  8.51it/s]\nDoing camera calibrate\n"
    }
   ],
   "source": [
    "retval, cameraMatrix, distCoeffs, rvecs, tvecs, stdDeviationsIntrinsics, stdDeviationsExtrinsics, perViewErrors, points_3D, points_2D = fcc.OldSchoolCC.calibrate_camera(gray_cal_imgs, pattern_size, verbose=1)"
   ]
  },
  {
   "cell_type": "code",
   "execution_count": 13,
   "metadata": {},
   "outputs": [
    {
     "output_type": "stream",
     "name": "stdout",
     "text": "(94, 144, 1, 2)\n"
    }
   ],
   "source": [
    "print(img_points.shape)"
   ]
  },
  {
   "cell_type": "code",
   "execution_count": null,
   "metadata": {},
   "outputs": [],
   "source": []
  }
 ]
}