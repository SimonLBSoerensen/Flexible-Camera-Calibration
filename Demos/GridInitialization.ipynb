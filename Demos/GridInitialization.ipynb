{
 "cells": [
  {
   "cell_type": "raw",
   "metadata": {},
   "source": [
    "Introduction\n",
    "\n",
    "Attempt at creating an initial grid based on the pinhole camera model.   \n",
    "\n",
    "Q_i = [R t]^-1 * A^-1 * p_i, where A is a matrix including focal length and center of camera offset, and [R t] is rotation translation of the camera (intrinsic/extrinsic parameters).   \n",
    "\n",
    "A * p_i = qi,  this is probably the way to do it since I don't think we have the extrinsic parameters. \n",
    "\n"
   ]
  },
  {
   "cell_type": "markdown",
   "metadata": {},
   "source": [
    "i reuse simons imports, not sure if i'll need all of them. "
   ]
  },
  {
   "cell_type": "code",
   "execution_count": 45,
   "metadata": {},
   "outputs": [],
   "source": [
    "import glob\n",
    "import numpy as np\n",
    "import cv2\n",
    "import matplotlib.pyplot as plt\n",
    "from tqdm import tqdm"
   ]
  },
  {
   "cell_type": "code",
   "execution_count": 46,
   "metadata": {},
   "outputs": [],
   "source": [
    "#choices \n",
    "gridsize = np.array([4,8])\n",
    "picturesize = np.array([128,128])\n",
    "A = np.array([(1,0,picturesize[0]/2),(0,1,picturesize[1]/2),(0,0,1)])\n"
   ]
  },
  {
   "cell_type": "code",
   "execution_count": 47,
   "metadata": {},
   "outputs": [],
   "source": [
    "def vectorgrid_creation():\n",
    "    vectorgrid = np.zeros((gridsize[0],gridsize[1],3))\n",
    "    for i in range(gridsize[0]):\n",
    "        for j in range(gridsize[1]):\n",
    "            x = picturesize[0]/(gridsize[0]+1)*(i+1)\n",
    "            y = picturesize[1]/(gridsize[1]+1)*(j+1)\n",
    "            pixel_vector = np.array([x,y,1])\n",
    "            vectorgrid[i][j] = A.dot(pixel_vector)\n",
    "    return vectorgrid"
   ]
  },
  {
   "cell_type": "code",
   "execution_count": 48,
   "metadata": {},
   "outputs": [
    {
     "data": {
      "text/plain": [
       "array([[[ 89.6       ,  78.22222222,   1.        ],\n",
       "        [ 89.6       ,  92.44444444,   1.        ],\n",
       "        [ 89.6       , 106.66666667,   1.        ],\n",
       "        [ 89.6       , 120.88888889,   1.        ],\n",
       "        [ 89.6       , 135.11111111,   1.        ],\n",
       "        [ 89.6       , 149.33333333,   1.        ],\n",
       "        [ 89.6       , 163.55555556,   1.        ],\n",
       "        [ 89.6       , 177.77777778,   1.        ]],\n",
       "\n",
       "       [[115.2       ,  78.22222222,   1.        ],\n",
       "        [115.2       ,  92.44444444,   1.        ],\n",
       "        [115.2       , 106.66666667,   1.        ],\n",
       "        [115.2       , 120.88888889,   1.        ],\n",
       "        [115.2       , 135.11111111,   1.        ],\n",
       "        [115.2       , 149.33333333,   1.        ],\n",
       "        [115.2       , 163.55555556,   1.        ],\n",
       "        [115.2       , 177.77777778,   1.        ]],\n",
       "\n",
       "       [[140.8       ,  78.22222222,   1.        ],\n",
       "        [140.8       ,  92.44444444,   1.        ],\n",
       "        [140.8       , 106.66666667,   1.        ],\n",
       "        [140.8       , 120.88888889,   1.        ],\n",
       "        [140.8       , 135.11111111,   1.        ],\n",
       "        [140.8       , 149.33333333,   1.        ],\n",
       "        [140.8       , 163.55555556,   1.        ],\n",
       "        [140.8       , 177.77777778,   1.        ]],\n",
       "\n",
       "       [[166.4       ,  78.22222222,   1.        ],\n",
       "        [166.4       ,  92.44444444,   1.        ],\n",
       "        [166.4       , 106.66666667,   1.        ],\n",
       "        [166.4       , 120.88888889,   1.        ],\n",
       "        [166.4       , 135.11111111,   1.        ],\n",
       "        [166.4       , 149.33333333,   1.        ],\n",
       "        [166.4       , 163.55555556,   1.        ],\n",
       "        [166.4       , 177.77777778,   1.        ]]])"
      ]
     },
     "execution_count": 48,
     "metadata": {},
     "output_type": "execute_result"
    }
   ],
   "source": [
    "vectorgrid_creation()"
   ]
  },
  {
   "cell_type": "code",
   "execution_count": null,
   "metadata": {},
   "outputs": [],
   "source": []
  }
 ],
 "metadata": {
  "kernelspec": {
   "display_name": "Python 3",
   "language": "python",
   "name": "python3"
  },
  "language_info": {
   "codemirror_mode": {
    "name": "ipython",
    "version": 3
   },
   "file_extension": ".py",
   "mimetype": "text/x-python",
   "name": "python",
   "nbconvert_exporter": "python",
   "pygments_lexer": "ipython3",
   "version": "3.7.7"
  }
 },
 "nbformat": 4,
 "nbformat_minor": 4
}
